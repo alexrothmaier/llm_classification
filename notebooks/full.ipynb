{
 "cells": [
  {
   "cell_type": "code",
   "execution_count": 1,
   "metadata": {},
   "outputs": [
    {
     "name": "stderr",
     "output_type": "stream",
     "text": [
      "/Users/alexrothmaier/Documents/llm_classification/venv/lib/python3.10/site-packages/tqdm/auto.py:21: TqdmWarning: IProgress not found. Please update jupyter and ipywidgets. See https://ipywidgets.readthedocs.io/en/stable/user_install.html\n",
      "  from .autonotebook import tqdm as notebook_tqdm\n",
      "/Users/alexrothmaier/Documents/llm_classification/venv/lib/python3.10/site-packages/threadpoolctl.py:1214: RuntimeWarning: \n",
      "Found Intel OpenMP ('libiomp') and LLVM OpenMP ('libomp') loaded at\n",
      "the same time. Both libraries are known to be incompatible and this\n",
      "can cause random crashes or deadlocks on Linux when loaded in the\n",
      "same Python program.\n",
      "Using threadpoolctl may cause crashes or deadlocks. For more\n",
      "information and possible workarounds, please see\n",
      "    https://github.com/joblib/threadpoolctl/blob/master/multiple_openmp.md\n",
      "\n",
      "  warnings.warn(msg, RuntimeWarning)\n"
     ]
    },
    {
     "ename": "ImportError",
     "evalue": "cannot import name 'RunnableParallel' from 'langchain_core' (/Users/alexrothmaier/Documents/llm_classification/venv/lib/python3.10/site-packages/langchain_core/__init__.py)",
     "output_type": "error",
     "traceback": [
      "\u001b[0;31m---------------------------------------------------------------------------\u001b[0m",
      "\u001b[0;31mImportError\u001b[0m                               Traceback (most recent call last)",
      "Cell \u001b[0;32mIn[1], line 4\u001b[0m\n\u001b[1;32m      2\u001b[0m sys\u001b[38;5;241m.\u001b[39mpath\u001b[38;5;241m.\u001b[39mappend(\u001b[38;5;124m'\u001b[39m\u001b[38;5;124m..\u001b[39m\u001b[38;5;124m'\u001b[39m)\n\u001b[1;32m      3\u001b[0m \u001b[38;5;28;01mfrom\u001b[39;00m \u001b[38;5;21;01msrc\u001b[39;00m\u001b[38;5;21;01m.\u001b[39;00m\u001b[38;5;21;01mllm_alex\u001b[39;00m \u001b[38;5;28;01mimport\u001b[39;00m Llama\n\u001b[0;32m----> 4\u001b[0m \u001b[38;5;28;01mfrom\u001b[39;00m \u001b[38;5;21;01msrc\u001b[39;00m\u001b[38;5;21;01m.\u001b[39;00m\u001b[38;5;21;01mprediction\u001b[39;00m \u001b[38;5;28;01mimport\u001b[39;00m Prediction\n\u001b[1;32m      6\u001b[0m \u001b[38;5;28;01mimport\u001b[39;00m \u001b[38;5;21;01mnumpy\u001b[39;00m\n\u001b[1;32m      7\u001b[0m \u001b[38;5;28;01mimport\u001b[39;00m \u001b[38;5;21;01mpandas\u001b[39;00m \u001b[38;5;28;01mas\u001b[39;00m \u001b[38;5;21;01mpd\u001b[39;00m\n",
      "File \u001b[0;32m~/Documents/llm_classification/notebooks/../src/prediction.py:1\u001b[0m\n\u001b[0;32m----> 1\u001b[0m \u001b[38;5;28;01mfrom\u001b[39;00m \u001b[38;5;21;01mlangchain_core\u001b[39;00m \u001b[38;5;28;01mimport\u001b[39;00m pydantic_v1, RunnableParallel, RunnableLambda, RetryOutputParser\n\u001b[1;32m      3\u001b[0m \u001b[38;5;28;01mclass\u001b[39;00m \u001b[38;5;21;01mPrediction\u001b[39;00m(pydantic_v1\u001b[38;5;241m.\u001b[39mBaseModel):\n\u001b[1;32m      4\u001b[0m     reasoning: \u001b[38;5;28mstr\u001b[39m \u001b[38;5;241m=\u001b[39m pydantic_v1\u001b[38;5;241m.\u001b[39mField(description\u001b[38;5;241m=\u001b[39m\u001b[38;5;124m\"\u001b[39m\u001b[38;5;124mThe reasoning behind the prediction\u001b[39m\u001b[38;5;124m\"\u001b[39m)\n",
      "\u001b[0;31mImportError\u001b[0m: cannot import name 'RunnableParallel' from 'langchain_core' (/Users/alexrothmaier/Documents/llm_classification/venv/lib/python3.10/site-packages/langchain_core/__init__.py)"
     ]
    }
   ],
   "source": [
    "import sys\n",
    "sys.path.append('..')\n",
    "from src.llm_alex import Llama\n",
    "from src.prediction import Prediction\n",
    "\n",
    "import numpy\n",
    "import pandas as pd\n",
    "#import matplotlib.pyplot as plt\n",
    "from datasets import load_dataset\n",
    "import os\n",
    "from langchain_core import pydantic_v1, RunnableParallel, RunnableLambda, RetryOutputParser\n",
    "\n"
   ]
  },
  {
   "cell_type": "code",
   "execution_count": null,
   "metadata": {},
   "outputs": [],
   "source": [
    "from langchain_core import pydantic_v1, RunnableParallel, RunnableLambda, RetryOutputParser\n",
    "\n",
    "\n",
    "\n",
    "llm = Llama()\n",
    "retry_parser = RetryOutputParser.from_llm(parser=self.parser, llm=self.model, max_retries=3)\n",
    "\n",
    "    completion_chain = prompt | self.model\n",
    "\n",
    "    main_chain = RunnableParallel(\n",
    "        completion=completion_chain, prompt_value=prompt\n",
    "    ) | RunnableLambda(lambda x: retry_parser.parse_with_prompt(**x))\n",
    "\n",
    "    try:\n",
    "        answer: Prediction = main_chain.invoke({\"query\": query})\n",
    "        answer_final: str = answer.label\n",
    "    except Exception as e:\n",
    "        print(e)\n",
    "        answer_final = 'ERROR'"
   ]
  }
 ],
 "metadata": {
  "kernelspec": {
   "display_name": "venv",
   "language": "python",
   "name": "python3"
  },
  "language_info": {
   "codemirror_mode": {
    "name": "ipython",
    "version": 3
   },
   "file_extension": ".py",
   "mimetype": "text/x-python",
   "name": "python",
   "nbconvert_exporter": "python",
   "pygments_lexer": "ipython3",
   "version": "3.10.2"
  }
 },
 "nbformat": 4,
 "nbformat_minor": 2
}
